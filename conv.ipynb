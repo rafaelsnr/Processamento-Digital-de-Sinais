{
 "cells": [
  {
   "cell_type": "code",
   "execution_count": 127,
   "metadata": {},
   "outputs": [],
   "source": [
    "from scipy.io.wavfile import read, write\n",
    "import numpy as np"
   ]
  },
  {
   "cell_type": "code",
   "execution_count": 131,
   "metadata": {},
   "outputs": [
    {
     "name": "stdout",
     "output_type": "stream",
     "text": [
      "Tiro acústico-> Taxa de amostragem: 44100, quantidade de amostras: 82756\n",
      "Áudio autoral-> Taxa de amostragem: 44100, quantidade de amostras: 162759\n",
      "Convolução realizada com sucesso!\n"
     ]
    }
   ],
   "source": [
    "# Lendo os arquivos WAV\n",
    "sample_rate1, signal1 = read('./waves/x.wav')\n",
    "sample_rate2, signal2 = read('./waves/h.wav')\n",
    "\n",
    "# Verificando se as taxas de amostragem são iguais\n",
    "print(f\"Tiro acústico-> Taxa de amostragem: {sample_rate2}, quantidade de amostras: {len(signal2)}\")\n",
    "print(f\"Áudio autoral-> Taxa de amostragem: {sample_rate1}, quantidade de amostras: {len(signal1)}\")\n",
    "if sample_rate1 != sample_rate2:\n",
    "    raise ValueError(\"As taxas de amostragem devem ser iguais!\")\n",
    "\n",
    "# Normalizando os sinais\n",
    "signal1 = signal1 / np.max(np.abs(signal1))\n",
    "signal2 = signal2 / np.max(np.abs(signal2))\n",
    "\n",
    "# Convolução\n",
    "result = np.convolve(signal1, signal2)\n",
    "\n",
    "# Normalizando o resultado para evitar clipping\n",
    "result = result / np.max(np.abs(result))\n",
    "\n",
    "# Convertendo para int16\n",
    "result_int16 = np.int16(result * 32767)\n",
    "\n",
    "# Salvando o resultado\n",
    "write('./waves/y.wav', sample_rate1, result_int16)\n",
    "\n",
    "\n",
    "print(\"Convolução realizada com sucesso!\")"
   ]
  },
  {
   "cell_type": "markdown",
   "metadata": {},
   "source": [
    "### Observações\n",
    "* Tivemos que modificar a taxa de amostragem do áudio autoral, uma vez que foi coletado em 48KHz\n"
   ]
  }
 ],
 "metadata": {
  "kernelspec": {
   "display_name": "PDS-V60VLNG7",
   "language": "python",
   "name": "python3"
  },
  "language_info": {
   "codemirror_mode": {
    "name": "ipython",
    "version": 3
   },
   "file_extension": ".py",
   "mimetype": "text/x-python",
   "name": "python",
   "nbconvert_exporter": "python",
   "pygments_lexer": "ipython3",
   "version": "3.9.15"
  }
 },
 "nbformat": 4,
 "nbformat_minor": 2
}
